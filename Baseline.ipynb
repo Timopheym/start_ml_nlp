{
 "cells": [
  {
   "cell_type": "code",
   "execution_count": 15,
   "metadata": {
    "collapsed": false
   },
   "outputs": [
    {
     "name": "stdout",
     "output_type": "stream",
     "text": [
      "Automatically created module for IPython interactive environment\n"
     ]
    }
   ],
   "source": [
    "#Загрузка всех необходимых библиотек\n",
    "from sklearn.feature_extraction.text import CountVectorizer\n",
    "from sklearn.feature_extraction.text import TfidfTransformer\n",
    "\n",
    "from sklearn.linear_model import SGDClassifier\n",
    "from sklearn.linear_model import SGDRegressor\n",
    "from sklearn.linear_model import LinearRegression\n",
    "\n",
    "from sklearn.pipeline import Pipeline\n",
    "from sklearn.model_selection import train_test_split\n",
    "\n",
    "import pandas as pd\n",
    "import numpy as np\n",
    "from datetime import date\n",
    "\n",
    "print(__doc__)"
   ]
  },
  {
   "cell_type": "code",
   "execution_count": 2,
   "metadata": {
    "collapsed": true
   },
   "outputs": [],
   "source": [
    "#Настройка пандаса, чтобы выводить не слишком много записей\n",
    "pd.set_option('display.max_rows', 6)"
   ]
  },
  {
   "cell_type": "code",
   "execution_count": 3,
   "metadata": {
    "collapsed": false
   },
   "outputs": [
    {
     "data": {
      "text/html": [
       "<div>\n",
       "<table border=\"1\" class=\"dataframe\">\n",
       "  <thead>\n",
       "    <tr style=\"text-align: right;\">\n",
       "      <th></th>\n",
       "      <th>text</th>\n",
       "      <th>date</th>\n",
       "      <th>author_firstname</th>\n",
       "      <th>author_lastname</th>\n",
       "    </tr>\n",
       "  </thead>\n",
       "  <tbody>\n",
       "    <tr>\n",
       "      <th>7729</th>\n",
       "      <td>Татьянин день. Забросил я дневник. А жаль: за ...</td>\n",
       "      <td>1922-01-25</td>\n",
       "      <td>Михаил</td>\n",
       "      <td>Булгаков</td>\n",
       "    </tr>\n",
       "    <tr>\n",
       "      <th>7730</th>\n",
       "      <td>Вошел в бродячий коллектив актеров: буду играт...</td>\n",
       "      <td>1922-01-26</td>\n",
       "      <td>Михаил</td>\n",
       "      <td>Булгаков</td>\n",
       "    </tr>\n",
       "    <tr>\n",
       "      <th>7731</th>\n",
       "      <td>Идет самый черный период моей жизни. Мы с жено...</td>\n",
       "      <td>1922-02-09</td>\n",
       "      <td>Михаил</td>\n",
       "      <td>Булгаков</td>\n",
       "    </tr>\n",
       "    <tr>\n",
       "      <th>...</th>\n",
       "      <td>...</td>\n",
       "      <td>...</td>\n",
       "      <td>...</td>\n",
       "      <td>...</td>\n",
       "    </tr>\n",
       "    <tr>\n",
       "      <th>227599</th>\n",
       "      <td>[В ночь с 27 на 28 января 1953 Бунин, уже изме...</td>\n",
       "      <td>1953-02-27</td>\n",
       "      <td>Иван</td>\n",
       "      <td>Бунин</td>\n",
       "    </tr>\n",
       "    <tr>\n",
       "      <th>227600</th>\n",
       "      <td>Вчера Алданов рассказал, что сам Алешка Толсто...</td>\n",
       "      <td>1953-02-23</td>\n",
       "      <td>Иван</td>\n",
       "      <td>Бунин</td>\n",
       "    </tr>\n",
       "    <tr>\n",
       "      <th>227601</th>\n",
       "      <td>[Последняя, найденная мною запись Бунина напис...</td>\n",
       "      <td>1953-05-02</td>\n",
       "      <td>Иван</td>\n",
       "      <td>Бунин</td>\n",
       "    </tr>\n",
       "  </tbody>\n",
       "</table>\n",
       "<p>5842 rows × 4 columns</p>\n",
       "</div>"
      ],
      "text/plain": [
       "                                                     text        date  \\\n",
       "7729    Татьянин день. Забросил я дневник. А жаль: за ...  1922-01-25   \n",
       "7730    Вошел в бродячий коллектив актеров: буду играт...  1922-01-26   \n",
       "7731    Идет самый черный период моей жизни. Мы с жено...  1922-02-09   \n",
       "...                                                   ...         ...   \n",
       "227599  [В ночь с 27 на 28 января 1953 Бунин, уже изме...  1953-02-27   \n",
       "227600  Вчера Алданов рассказал, что сам Алешка Толсто...  1953-02-23   \n",
       "227601  [Последняя, найденная мною запись Бунина напис...  1953-05-02   \n",
       "\n",
       "       author_firstname author_lastname  \n",
       "7729             Михаил        Булгаков  \n",
       "7730             Михаил        Булгаков  \n",
       "7731             Михаил        Булгаков  \n",
       "...                 ...             ...  \n",
       "227599             Иван           Бунин  \n",
       "227600             Иван           Бунин  \n",
       "227601             Иван           Бунин  \n",
       "\n",
       "[5842 rows x 4 columns]"
      ]
     },
     "execution_count": 3,
     "metadata": {},
     "output_type": "execute_result"
    }
   ],
   "source": [
    "#Загрузка и просмотр данных\n",
    "train_df = pd.read_csv('notes_small.csv', header=0, index_col=0)\n",
    "train_df"
   ]
  },
  {
   "cell_type": "code",
   "execution_count": 4,
   "metadata": {
    "collapsed": false
   },
   "outputs": [],
   "source": [
    "#Создание новой \"метафитчи\" которая состоит из двух других\n",
    "train_df['author'] = train_df['author_firstname'] + train_df['author_lastname']"
   ]
  },
  {
   "cell_type": "code",
   "execution_count": 5,
   "metadata": {
    "collapsed": false
   },
   "outputs": [
    {
     "data": {
      "text/plain": [
       "{'АлександрТвардовский': 6,\n",
       " 'АндрейБелый': 7,\n",
       " 'ДаниилХармс': 5,\n",
       " 'ЕвгенийШварц': 3,\n",
       " 'ИванБунин': 1,\n",
       " 'Леонид Андреев': 4,\n",
       " 'МихаилБулгаков': 0,\n",
       " 'МихаилПришвин': 2}"
      ]
     },
     "execution_count": 5,
     "metadata": {},
     "output_type": "execute_result"
    }
   ],
   "source": [
    "#Факторизация фитчи - чтобы она была понятна компьютеру, \n",
    "#и вывод словоря сопоставлений - чтобы нам было понятно о чем речь\n",
    "authors_factor, authors = train_df['author'].factorize()\n",
    "authors_dict = dict(zip(authors, np.arange(len(authors))))\n",
    "authors_dict"
   ]
  },
  {
   "cell_type": "code",
   "execution_count": 6,
   "metadata": {
    "collapsed": true
   },
   "outputs": [],
   "source": [
    "#замена старых значений на факторизованные\n",
    "train_df['author'] = train_df['author'].replace(authors_dict)"
   ]
  },
  {
   "cell_type": "code",
   "execution_count": 7,
   "metadata": {
    "collapsed": false
   },
   "outputs": [],
   "source": [
    "# этот код следует использовать для факторизации фитчи даты\n",
    "# dates_factor, dates = train_df['date'].factorize()\n",
    "# oridnal_dates = dates.map(lambda d: date(int(d.split('-')[0]), int(d.split('-')[1]), int(d.split('-')[2])).toordinal())\n",
    "# dates_dict = dict(zip(dates, oridnal_dates))\n",
    "# train_df['date'] = train_df['date'].replace(dates_dict)\n",
    "#train_df.to_csv('notes_date_transformed.csv')"
   ]
  },
  {
   "cell_type": "code",
   "execution_count": 8,
   "metadata": {
    "collapsed": false
   },
   "outputs": [],
   "source": [
    "#Выт\n",
    "    ('vect', CountVectorizer()),\n",
    "    ('vect', CountVectorizer()),аскиваем из pandas необходимые нам фитчи\n",
    "texts = train_df.text.astype(str).tolist()\n",
    "authors = train_df.author.tolist()"
   ]
  },
  {
   "cell_type": "code",
   "execution_count": 9,
   "metadata": {
    "collapsed": true
   },
   "outputs": [],
   "source": [
    "#Разбиваем их на test и train выборки\n",
    "X_train, X_test, y_train, y_test = train_test_split(texts, authors, test_size=0.33, random_state=42)"
   ]
  },
  {
   "cell_type": "code",
   "execution_count": 29,
   "metadata": {
    "collapsed": false
   },
   "outputs": [
    {
     "data": {
      "text/plain": [
       "Pipeline(steps=[('vect', CountVectorizer(analyzer='word', binary=False, decode_error='strict',\n",
       "        dtype=<class 'numpy.int64'>, encoding='utf-8', input='content',\n",
       "        lowercase=True, max_df=1.0, max_features=None, min_df=1,\n",
       "        ngram_range=(1, 1), preprocessor=None, stop_words=None,\n",
       "        strip...e_idf=True)), ('cls', LinearRegression(copy_X=True, fit_intercept=True, n_jobs=1, normalize=False))])"
      ]
     },
     "execution_count": 29,
     "metadata": {},
     "output_type": "execute_result"
    }
   ],
   "source": [
    "#Конструируем последовательность действий работы с данными\n",
    "#Сначала выдергиваем фитчи, потом тренируем классификатор\n",
    "pipeline = Pipeline([\n",
    "    ('vect', CountVectorizer()),\n",
    "    ('tfidf', TfidfTransformer()),\n",
    "    ('cls', LinearRegression()),\n",
    "])\n",
    "#Собственно обучение классификатора\n",
    "pipeline.fit(X_train, y_train)"
   ]
  },
  {
   "cell_type": "code",
   "execution_count": 30,
   "metadata": {
    "collapsed": false
   },
   "outputs": [
    {
     "data": {
      "text/plain": [
       "0.7531589135749468"
      ]
     },
     "execution_count": 30,
     "metadata": {},
     "output_type": "execute_result"
    }
   ],
   "source": [
    "#Проверка классификатора на тестовой выборке\n",
    "pipeline.score(X_test, y_test)"
   ]
  },
  {
   "cell_type": "code",
   "execution_count": 14,
   "metadata": {
    "collapsed": false
   },
   "outputs": [
    {
     "data": {
      "text/plain": [
       "array([0])"
      ]
     },
     "execution_count": 14,
     "metadata": {},
     "output_type": "execute_result"
    }
   ],
   "source": [
    "#Ручная проверка, понимает ли наш классификатор Булгакова\n",
    "pipeline.predict([\"Сегодня в газетах бюллетень о состоянии здоровья Л.Д. Троцкого. Начинается словами: «Л.Д. Троцкий 5 ноября прошлого года болел...», кончается: «Отпуск с полным освобождением от всяких обязанностей, на срок не менее 2 месяцев». Комментарии к этому историческому бюллетеню излишни.\"])"
   ]
  },
  {
   "cell_type": "code",
   "execution_count": null,
   "metadata": {
    "collapsed": true
   },
   "outputs": [],
   "source": []
  }
 ],
 "metadata": {
  "kernelspec": {
   "display_name": "Python 3",
   "language": "python",
   "name": "python3"
  },
  "language_info": {
   "codemirror_mode": {
    "name": "ipython",
    "version": 3
   },
   "file_extension": ".py",
   "mimetype": "text/x-python",
   "name": "python",
   "nbconvert_exporter": "python",
   "pygments_lexer": "ipython3",
   "version": "3.6.0"
  }
 },
 "nbformat": 4,
 "nbformat_minor": 1
}
